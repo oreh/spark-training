{
 "cells": [
  {
   "cell_type": "markdown",
   "metadata": {},
   "source": [
    "# Grep IP lines from /etc/hosts"
   ]
  },
  {
   "cell_type": "code",
   "execution_count": 6,
   "metadata": {
    "collapsed": false
   },
   "outputs": [
    {
     "name": "stdout",
     "output_type": "stream",
     "text": [
      "\n",
      "number of ips: 4\n",
      "127.0.0.1 localhost\n",
      "192.168.56.100 node0\n",
      "192.168.56.101 node1\n",
      "192.168.56.102 node2\n"
     ]
    }
   ],
   "source": [
    "import re\n",
    "\n",
    "p = re.compile('^\\d+\\.\\d+\\.\\d+\\.\\d+.*$')\n",
    "\n",
    "input_file = sc.textFile('/etc/hosts')\n",
    "hosts = input_file.filter(lambda x: p.match(x))\n",
    "\n",
    "ips = hosts.map(lambda x: x.split('\\t')[0])\n",
    "\n",
    "print \"\\nnumber of ips: %d\" % ips.count()\n",
    "\n",
    "for ip in ips.collect():\n",
    "    print ip\n"
   ]
  }
 ],
 "metadata": {
  "kernelspec": {
   "display_name": "Python 2",
   "language": "python",
   "name": "python2"
  },
  "language_info": {
   "codemirror_mode": {
    "name": "ipython",
    "version": 2
   },
   "file_extension": ".py",
   "mimetype": "text/x-python",
   "name": "python",
   "nbconvert_exporter": "python",
   "pygments_lexer": "ipython2",
   "version": "2.7.6"
  }
 },
 "nbformat": 4,
 "nbformat_minor": 0
}
