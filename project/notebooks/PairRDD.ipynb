{
 "cells": [
  {
   "cell_type": "markdown",
   "metadata": {},
   "source": [
    "# Transformation"
   ]
  },
  {
   "cell_type": "markdown",
   "metadata": {},
   "source": [
    "## Pair RDD"
   ]
  },
  {
   "cell_type": "code",
   "execution_count": null,
   "metadata": {
    "collapsed": false
   },
   "outputs": [],
   "source": [
    "rdd = sc.parallelize(zip(['a']*5 + ['b']*5, range(10)))\n",
    "rdd.collect()"
   ]
  },
  {
   "cell_type": "markdown",
   "metadata": {},
   "source": [
    "## reduceByKey"
   ]
  },
  {
   "cell_type": "code",
   "execution_count": null,
   "metadata": {
    "collapsed": false
   },
   "outputs": [],
   "source": [
    "rdd.reduceByKey(lambda x, y: x+y).collect()"
   ]
  },
  {
   "cell_type": "markdown",
   "metadata": {},
   "source": [
    "## groupByKey"
   ]
  },
  {
   "cell_type": "code",
   "execution_count": null,
   "metadata": {
    "collapsed": false
   },
   "outputs": [],
   "source": [
    "rdd.groupByKey().mapValues(list).collect()"
   ]
  },
  {
   "cell_type": "markdown",
   "metadata": {},
   "source": [
    "## combineByKey"
   ]
  },
  {
   "cell_type": "code",
   "execution_count": null,
   "metadata": {
    "collapsed": false
   },
   "outputs": [],
   "source": [
    "r = rdd.combineByKey(\n",
    "    (lambda x: (x,1)),\n",
    "    (lambda x, y: (x[0] + y, x[1] + 1)),\n",
    "    (lambda x, y: (x[0] + y[0], x[1] + y[1]))\n",
    ")\n",
    "\n",
    "r.map(lambda x: (x[0], x[1][0]/float(x[1][1]))).collect()"
   ]
  },
  {
   "cell_type": "markdown",
   "metadata": {},
   "source": [
    "## mapValues"
   ]
  },
  {
   "cell_type": "code",
   "execution_count": null,
   "metadata": {
    "collapsed": false
   },
   "outputs": [],
   "source": [
    "r = rdd.combineByKey(\n",
    "    (lambda x: (x,1)),\n",
    "    (lambda x, y: (x[0] + y, x[1] + 1)),\n",
    "    (lambda x, y: (x[0] + y[0], x[1] + y[1]))\n",
    ")\n",
    "\n",
    "print r.collect()\n",
    "\n",
    "r.mapValues(lambda x: x[0]/float(x[1])).collect()"
   ]
  },
  {
   "cell_type": "markdown",
   "metadata": {},
   "source": [
    "## flatMapValues"
   ]
  },
  {
   "cell_type": "code",
   "execution_count": null,
   "metadata": {
    "collapsed": false
   },
   "outputs": [],
   "source": [
    "r = rdd.groupByKey().mapValues(list)\n",
    "print r.collect()\n",
    "\n",
    "r.flatMapValues(lambda x: x).collect()"
   ]
  },
  {
   "cell_type": "markdown",
   "metadata": {},
   "source": [
    "## keys"
   ]
  },
  {
   "cell_type": "code",
   "execution_count": null,
   "metadata": {
    "collapsed": false
   },
   "outputs": [],
   "source": [
    "print rdd.keys().collect()\n",
    "print rdd.groupByKey().keys().collect()"
   ]
  },
  {
   "cell_type": "markdown",
   "metadata": {},
   "source": [
    "## values"
   ]
  },
  {
   "cell_type": "code",
   "execution_count": null,
   "metadata": {
    "collapsed": false
   },
   "outputs": [],
   "source": [
    "print rdd.values().collect()\n",
    "print rdd.groupByKey().values().collect()\n",
    "print rdd.groupByKey().mapValues(list).values().collect()"
   ]
  },
  {
   "cell_type": "markdown",
   "metadata": {},
   "source": [
    "## sortByKey"
   ]
  },
  {
   "cell_type": "code",
   "execution_count": null,
   "metadata": {
    "collapsed": false
   },
   "outputs": [],
   "source": [
    "rdd = sc.parallelize([('a', 10), ('b', 8), ('f', 3), ('d', 4), ('2', 5)])\n",
    "print rdd.sortByKey().collect()\n",
    "print rdd.sortByKey(ascending=False).collect()"
   ]
  },
  {
   "cell_type": "markdown",
   "metadata": {},
   "source": [
    "## sortBy"
   ]
  },
  {
   "cell_type": "code",
   "execution_count": null,
   "metadata": {
    "collapsed": false
   },
   "outputs": [],
   "source": [
    "print rdd.sortBy(lambda x: x[1]).collect()\n",
    "print rdd.sortBy(lambda x: x[1], ascending=False).collect()"
   ]
  },
  {
   "cell_type": "markdown",
   "metadata": {},
   "source": [
    "## subtractByKey"
   ]
  },
  {
   "cell_type": "code",
   "execution_count": null,
   "metadata": {
    "collapsed": false
   },
   "outputs": [],
   "source": [
    "rdd0 = sc.parallelize([(\"a\", 1), (\"b\", 4), (\"b\", 5), (\"d\", 2), (\"c\", 10)])\n",
    "rdd1 = sc.parallelize([(\"a\", 3), (\"c\", 2)])\n",
    "print rdd0.subtractByKey(rdd1).collect()\n",
    "print rdd1.subtractByKey(rdd0).collect()"
   ]
  },
  {
   "cell_type": "code",
   "execution_count": null,
   "metadata": {
    "collapsed": false
   },
   "outputs": [],
   "source": [
    "rdd0 = sc.parallelize([(\"a\", 1), (\"b\", 4), (\"b\", 5), (\"d\", 2), (\"c\", 10)])\n",
    "rdd1 = sc.parallelize([(\"a\", 3), (\"c\", 2)])\n",
    "print rdd0.join(rdd1).collect()\n",
    "print rdd1.join(rdd0).collect()"
   ]
  }
 ],
 "metadata": {
  "kernelspec": {
   "display_name": "Python 2",
   "language": "python",
   "name": "python2"
  },
  "language_info": {
   "codemirror_mode": {
    "name": "ipython",
    "version": 2
   },
   "file_extension": ".py",
   "mimetype": "text/x-python",
   "name": "python",
   "nbconvert_exporter": "python",
   "pygments_lexer": "ipython2",
   "version": "2.7.6"
  }
 },
 "nbformat": 4,
 "nbformat_minor": 0
}
